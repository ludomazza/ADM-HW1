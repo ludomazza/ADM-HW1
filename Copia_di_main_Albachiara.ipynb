{
  "nbformat": 4,
  "nbformat_minor": 0,
  "metadata": {
    "colab": {
      "provenance": [],
      "include_colab_link": true
    },
    "kernelspec": {
      "name": "python3",
      "display_name": "Python 3"
    },
    "language_info": {
      "name": "python"
    }
  },
  "cells": [
    {
      "cell_type": "markdown",
      "metadata": {
        "id": "view-in-github",
        "colab_type": "text"
      },
      "source": [
        "<a href=\"https://colab.research.google.com/github/ludomazza/ADM-HW1/blob/main/Copia_di_main_Albachiara.ipynb\" target=\"_parent\"><img src=\"https://colab.research.google.com/assets/colab-badge.svg\" alt=\"Open In Colab\"/></a>"
      ]
    },
    {
      "cell_type": "markdown",
      "source": [
        "#**Homework 3 - Places of the world**"
      ],
      "metadata": {
        "id": "RYt2rNxiJCnM"
      }
    },
    {
      "cell_type": "markdown",
      "source": [
        "*Authors: Bellaroba Albachiara, Mazza Ludovica*"
      ],
      "metadata": {
        "id": "-9rFaYLiJeq0"
      }
    },
    {
      "cell_type": "markdown",
      "source": [
        "To get started, let's import all the libraries we will need."
      ],
      "metadata": {
        "id": "MumLyAdkJU2Y"
      }
    },
    {
      "cell_type": "code",
      "source": [
        "from bs4 import BeautifulSoup\n",
        "import bs4\n",
        "import requests\n",
        "import os.path\n",
        "import lxml\n",
        "import re\n",
        "import codecs\n",
        "import csv\n",
        "import nltk\n",
        "from datetime import datetime\n",
        "from tqdm import tqdm\n",
        "import time\n",
        "import pandas as pd"
      ],
      "metadata": {
        "id": "Jl1MRtWrJN8M"
      },
      "execution_count": 1,
      "outputs": []
    },
    {
      "cell_type": "markdown",
      "source": [
        "In order to work in a faster environment, we link our work to a shared drive folder."
      ],
      "metadata": {
        "id": "2IUoMbH6JGJv"
      }
    },
    {
      "cell_type": "code",
      "source": [
        "from google.colab import drive\n",
        "drive.mount('/content/drive/') "
      ],
      "metadata": {
        "id": "ecIen976hOA6",
        "outputId": "cf39f086-bf32-4c83-de16-7b93e874dfdb",
        "colab": {
          "base_uri": "https://localhost:8080/"
        }
      },
      "execution_count": 99,
      "outputs": [
        {
          "output_type": "stream",
          "name": "stdout",
          "text": [
            "Drive already mounted at /content/drive/; to attempt to forcibly remount, call drive.mount(\"/content/drive/\", force_remount=True).\n"
          ]
        }
      ]
    },
    {
      "cell_type": "markdown",
      "source": [
        "## 1. Data collection"
      ],
      "metadata": {
        "id": "OlhC_Da0JO-1"
      }
    },
    {
      "cell_type": "markdown",
      "source": [
        "### 1.1. Get the list of places"
      ],
      "metadata": {
        "id": "DKEKM1gSJSez"
      }
    },
    {
      "cell_type": "markdown",
      "source": [
        "At this point we're creating a text file with all the link related to the 7200 places we will analyze."
      ],
      "metadata": {
        "id": "h8GejFPsJu7W"
      }
    },
    {
      "cell_type": "code",
      "source": [
        "linklist = open('/content/drive/MyDrive/ADM_HW3/linklist.txt', 'w')\n",
        "\n",
        "for i in tqdm(range(1, 401)):\n",
        "    link = f'https://www.atlasobscura.com/places?page={i}&sort=likes_count'\n",
        "    cont = requests.get(link)\n",
        "    soup = BeautifulSoup(cont.content, features='lxml')\n",
        "    for a in soup.find_all('a', class_='content-card content-card-place'):\n",
        "        linklist.write(a.get('href')+'\\n')\n",
        "        \n",
        "linklist.close()"
      ],
      "metadata": {
        "id": "3SQcCegJJX6c",
        "outputId": "11fa961c-3618-497a-9f4a-d28b917b1e90",
        "colab": {
          "base_uri": "https://localhost:8080/"
        }
      },
      "execution_count": null,
      "outputs": [
        {
          "output_type": "stream",
          "name": "stderr",
          "text": [
            "100%|██████████| 400/400 [02:05<00:00,  3.18it/s]\n"
          ]
        }
      ]
    },
    {
      "cell_type": "markdown",
      "source": [
        "Control that we have all the link."
      ],
      "metadata": {
        "id": "-LIORHMzJ92_"
      }
    },
    {
      "cell_type": "code",
      "source": [
        "file = open('/content/drive/MyDrive/ADM_HW3/linklist.txt', 'r')\n",
        "count=0\n",
        "for i in file:\n",
        "  if i != '\\n':\n",
        "    count += 1\n",
        "file.close\n",
        "print(count)"
      ],
      "metadata": {
        "id": "ICZrzWioN0zk",
        "outputId": "5879d676-7983-43ec-a6b3-102d8bd13ef8",
        "colab": {
          "base_uri": "https://localhost:8080/"
        }
      },
      "execution_count": null,
      "outputs": [
        {
          "output_type": "stream",
          "name": "stdout",
          "text": [
            "7200\n"
          ]
        }
      ]
    },
    {
      "cell_type": "markdown",
      "source": [
        "### 1.2. Crawl places"
      ],
      "metadata": {
        "id": "NcdSFQLRJaGS"
      }
    },
    {
      "cell_type": "code",
      "source": [
        "def download(start, finish):\n",
        "    header = {'User-Agent': 'Mozilla/5.0 (Macintosh; Intel Mac OS X 10_10_1) AppleWebKit/537.36 (KHTML, like Gecko) Chrome/39.0.2171.95 Safari/537.36'}\n",
        "    for i in tqdm(range(start, finish)):\n",
        "      cart = '/content/drive/MyDrive/ADM_HW3/Html_page/page_{}'.format(i)\n",
        "      os.makedirs(cart)\n",
        "      \n",
        "      f = open('/content/drive/MyDrive/ADM_HW3/linklist.txt', 'r', encoding='utf8')\n",
        "      l = f.readlines()[(i-1)*18:(i)*18]\n",
        "      l = [k.rstrip() for k in l]\n",
        "      f.close\n",
        "\n",
        "      m = 1+18*(i-1)\n",
        "\n",
        "      for link in l:\n",
        "        link = 'https://www.atlasobscura.com' + link\n",
        "        html = requests.get(link, headers = header)\n",
        "        if html.status_code != 200:\n",
        "          time.sleep(200)\n",
        "          html = requests.get(link, headers = header)\n",
        "\n",
        "\n",
        "        name = '{}/{}.html'.format(cart, m)\n",
        "        text = open(name, 'w', encoding='utf8')\n",
        "        text.write(html.text)\n",
        "        text.close\n",
        "        m=m+1\n"
      ],
      "metadata": {
        "id": "Yj8pzW-eJeT-"
      },
      "execution_count": null,
      "outputs": []
    },
    {
      "cell_type": "code",
      "source": [
        "download(1, 401)"
      ],
      "metadata": {
        "colab": {
          "base_uri": "https://localhost:8080/"
        },
        "id": "BeePTzBq9DaS",
        "outputId": "0ef67e92-87b7-4acd-b946-b6806a417532"
      },
      "execution_count": null,
      "outputs": [
        {
          "metadata": {
            "tags": null
          },
          "name": "stderr",
          "output_type": "stream",
          "text": [
            "100%|██████████| 100/100 [26:07<00:00, 15.67s/it]\n"
          ]
        }
      ]
    },
    {
      "cell_type": "markdown",
      "source": [
        "### 1.3 Parse downloaded pages"
      ],
      "metadata": {
        "id": "QLS9gAGtJgQ2"
      }
    },
    {
      "cell_type": "code",
      "source": [
        "placeName=[]\n",
        "placeTags=[]\n",
        "numPeopleVisited=[]\n",
        "numPeopleWant=[]\n",
        "placeDesc=[]\n",
        "placeShortDesc=[]\n",
        "placeNearby=[]\n",
        "placeAddress=[]\n",
        "placeAlt=[]\n",
        "placeLong=[]\n",
        "placeEditors=[]\n",
        "placePubDate=[]\n",
        "placeRelatedLists=[]\n",
        "placeRelatedPlaces=[]\n",
        "placeURL=[]"
      ],
      "metadata": {
        "id": "9KzN7u5u9z8x"
      },
      "execution_count": null,
      "outputs": []
    },
    {
      "cell_type": "code",
      "source": [
        "\n",
        " for i in tqdm(range(1,401)):\n",
        "   files = os.listdir('/content/drive/MyDrive/ADM_HW3/Html_page/page_'+str(i))\n",
        "   for k in range(((18*(int(i)-1))+1), (18*int(i)+1)):\n",
        "     file = open('/content/drive/MyDrive/ADM_HW3/Html_page/page_'+str(i)+'/'+str(k)+'.html', 'r', encoding='utf8')\n",
        "     soup=bs4.BeautifulSoup(file, 'lxml')\n",
        "\n",
        "     try:\n",
        "       name=soup.find('h1', {'class':'DDPage__header-title'}).text\n",
        "       placeName.append(name)\n",
        "     except:\n",
        "       placeName.append('')\n",
        "         \n",
        "     try:\n",
        "       tag=soup.find_all('a', {'class':'itemTags__link js-item-tags-link'})\n",
        "       tag=[i.get('href').split('/categories/')[1] for i in tag]\n",
        "       placeTags.append(tag)\n",
        "     except:\n",
        "       placeTags.append('')\n",
        "       \n",
        "     try:\n",
        "       visitors=soup.find_all('div', {'class':'title-md item-action-count'})[0].text.strip()\n",
        "       numPeopleVisited.append(visitors)\n",
        "     except:\n",
        "       numPeopleVisited.append('')\n",
        "    \n",
        "     try:\n",
        "       want=soup.find_all('div', {'class':'title-md item-action-count'})[1].text.strip()\n",
        "       numPeopleWant.append(want)\n",
        "     except:\n",
        "       numPeopleWant.append('')\n",
        "\n",
        "     try:\n",
        "       desc=soup.find('div', {'class':'DDP__body-copy'}).text.strip()\n",
        "       placeDesc.append(desc)\n",
        "     except:\n",
        "       placeDesc.append('')\n",
        "\n",
        "     try:\n",
        "       shdesc=soup.find('h3', {'class':'DDPage__header-dek'}).text.strip()\n",
        "       placeShortDesc.append(shdesc)\n",
        "     except:\n",
        "       placeShortDesc.append('')\n",
        "\n",
        "     try:\n",
        "       nearby=soup.find_all('div', {'class':'DDPageSiderailRecirc__item-title'})\n",
        "       nearby=[i.get_text() for i in nearby]\n",
        "       placeNearby.append(nearby)\n",
        "     except:\n",
        "       placeNearby.append('')\n",
        "\n",
        "     try:\n",
        "       address=soup.find_all('address', {'class':'DDPageSiderail__address'})[0]\n",
        "       address=address.find('div').get_text(separator=' ').split('\\n')[0]\n",
        "       placeAddress.append(address)\n",
        "     except:\n",
        "       placeAddress.append('')\n",
        "\n",
        "     try:\n",
        "       coordinates=soup.find_all('div', {'class':'DDPageSiderail__coordinates js-copy-coordinates'})[0].text.strip()\n",
        "       p=coordinates.split(', ')\n",
        "       placeAlt.append(p[0])\n",
        "       placeLong.append(p[1])\n",
        "     except:\n",
        "       placeAlt.append('')\n",
        "       placeLong.append('')\n",
        "\n",
        "     try:\n",
        "       editors=soup.find_all('div', {'class':'ugc-editor-icons'})\n",
        "       editors=[i.findChildren('a')[0].get('href') for i in editors]\n",
        "       editors=[k.split('/users/')[1] for k in editors]\n",
        "       placeEditors.append(editors)\n",
        "     except:\n",
        "       placeEditors.append('')\n",
        "\n",
        "     try:\n",
        "       date=soup.find('div', {'class':'DDPContributor__name'}).text.strip()\n",
        "       placePubDate.append(date)\n",
        "     except:\n",
        "       placePubDate.append('')\n",
        "\n",
        "     try:\n",
        "       rellist=soup.find_all('div', {'data-gtm-template':'DDP Footer Recirc Lists'})[0]\n",
        "       rellist=[i.text.strip() for i in rellist.find_all('h3')]\n",
        "       placeRelatedLists.append(rellist)\n",
        "     except:\n",
        "       placeRelatedLists.append('')\n",
        "\n",
        "     try:\n",
        "       relplaces=soup.find_all('div', {'class':'CardRecircSection__title'})\n",
        "       relplaces=[i for i in relplaces if i.text == 'Related Places'][0]\n",
        "       relplaces=relplaces.find_all_next('div', {'class':'Card__action-btns vue-js-been-there-everywhere-place'})\n",
        "       relplaces=[k.get('data-place-title') for k in relplaces]\n",
        "       placeRelatedPlaces.append(relplaces)\n",
        "     except:\n",
        "       placeRelatedPlaces.append('')\n",
        "\n",
        "     try:\n",
        "       url=soup.find('meta', attrs={'property':'og:url'})['content']\n",
        "       placeURL.append(url)\n",
        "     except:\n",
        "       placeURL.append('')\n",
        "\n",
        "\n"
      ],
      "metadata": {
        "id": "UkZqFGAJJli4",
        "outputId": "8c0ffb3e-bcae-4e2e-bc39-c6a975022009",
        "colab": {
          "base_uri": "https://localhost:8080/"
        }
      },
      "execution_count": null,
      "outputs": [
        {
          "output_type": "stream",
          "name": "stderr",
          "text": [
            "100%|██████████| 400/400 [48:41<00:00,  7.30s/it]\n"
          ]
        }
      ]
    },
    {
      "cell_type": "code",
      "source": [
        "features=pd.DataFrame(columns=['placeName', 'placeTags', 'numPeopleVisited', 'numPeopleWant', 'placeDesc', 'placeShortDesc',\n",
        "                                            'placeNearby', 'placeAddress', 'placeAlt', 'placeLong', 'placeEditors', 'placePubDate', \n",
        "                                            'placeRelatedLists', 'placeRelatedPlaces', 'placeURL'], index=[1,7200])\n",
        "\n",
        "for i in tqdm(range(0, 7200)):\n",
        "  features.at[i, 'placeName'] = placeName[i]\n",
        "  features.at[i, 'placeTags'] = placeTags[i]\n",
        "  features.at[i, 'numPeopleVisited']= numPeopleVisited[i]\n",
        "  features.at[i, 'numPeopleWant']= numPeopleWant[i]\n",
        "  features.at[i, 'placeDesc']= placeDesc[i]\n",
        "  features.at[i, 'placeShortDesc']= placeShortDesc[i]\n",
        "  features.at[i, 'placeNearby']= placeNearby[i]\n",
        "  features.at[i, 'placeAddress']= placeAddress[i]\n",
        "  features.at[i, 'placeAlt']= placeAlt[i]\n",
        "  features.at[i, 'placeLong']= placeLong[i]\n",
        "  features.at[i, 'placeEditors']= placeEditors[i]\n",
        "  features.at[i, 'placePubDate']= placePubDate[i]\n",
        "  features.at[i, 'placeRelatedLists']= placeRelatedLists[i]\n",
        "  features.at[i, 'placeRelatedPlaces']= placeRelatedPlaces[i]\n",
        "  features.at[i, 'placeURL']= placeURL[i]\n",
        "  "
      ],
      "metadata": {
        "id": "yMcG_QBv610O",
        "outputId": "5988d6f6-7629-49da-99cc-ac10e4717e8e",
        "colab": {
          "base_uri": "https://localhost:8080/"
        }
      },
      "execution_count": null,
      "outputs": [
        {
          "output_type": "stream",
          "name": "stderr",
          "text": [
            "100%|██████████| 7200/7200 [00:23<00:00, 303.84it/s]\n"
          ]
        }
      ]
    },
    {
      "cell_type": "code",
      "source": [
        "#os.makedirs('/content/drive/MyDrive/ADM_HW3/tsv_files')\n",
        "placesfeatures = features.to_csv('/content/drive/MyDrive/ADM_HW3/features.tsv', sep='\\t', index=False)"
      ],
      "metadata": {
        "id": "10nwlBePW0aX"
      },
      "execution_count": null,
      "outputs": []
    },
    {
      "cell_type": "code",
      "source": [
        "visual=pd.read_csv('/content/drive/MyDrive/ADM_HW3/features.tsv', sep='\\t')\n",
        "visual.head(10)"
      ],
      "metadata": {
        "id": "uabEyeo-BtSy",
        "outputId": "a608d136-54af-48a3-bb5b-bf31575a3891",
        "colab": {
          "base_uri": "https://localhost:8080/",
          "height": 1000
        }
      },
      "execution_count": 59,
      "outputs": [
        {
          "output_type": "execute_result",
          "data": {
            "text/plain": [
              "                            placeName  \\\n",
              "0                   Highgate Cemetery   \n",
              "1                                 NaN   \n",
              "2                   City Hall Station   \n",
              "3                   Leadenhall Market   \n",
              "4                      The Wave Organ   \n",
              "5                 Catacombes de Paris   \n",
              "6                 The Evolution Store   \n",
              "7      Magowan's Infinite Mirror Maze   \n",
              "8  Underground Tunnels of Los Angeles   \n",
              "9              Secret Tiled Staircase   \n",
              "\n",
              "                                           placeTags  numPeopleVisited  \\\n",
              "0  ['rivals-week', 'vampires', 'hoaxes', 'occult'...            2625.0   \n",
              "1                                                NaN               NaN   \n",
              "2  ['subways', 'subterranean', 'infrastructure', ...            1834.0   \n",
              "3              ['markets', 'film-locations', 'film']            3142.0   \n",
              "4  ['sea-organ', 'aletrail', 'sounds', 'music', '...            2430.0   \n",
              "5  ['ossuaries', 'memento-mori', 'catacombs-and-c...            4456.0   \n",
              "6  ['wonder-cabinets', 'purveyors-of-curiosities'...            2198.0   \n",
              "7  ['optical-illusions', 'labyrinths', 'optical-o...             909.0   \n",
              "8  ['tunnels', 'subterranean-sites', 'architectur...             660.0   \n",
              "9  ['stairs', 'outsider-art', 'architectural-oddi...            2009.0   \n",
              "\n",
              "   numPeopleWant                                          placeDesc  \\\n",
              "0         8208.0  Opened in 1839, Highgate is one of London’s mo...   \n",
              "1            NaN                                                NaN   \n",
              "2         8606.0  The first New York City subway was built and o...   \n",
              "3         7595.0  The ornate 19th-century painted roof and cobbl...   \n",
              "4         7425.0  Located on a jetty in the San Francisco Bay, t...   \n",
              "5         7057.0  In 2004, Parisian police were assigned to do a...   \n",
              "6         6951.0  Evolution stands out among the clothing stores...   \n",
              "7         6507.0  People stumble about the labyrinth, arms outst...   \n",
              "8         6440.0  While the rest of the country was forced to go...   \n",
              "9         6313.0  The 16th Avenue Staircase is 163 steps of mosa...   \n",
              "\n",
              "                                      placeShortDesc  \\\n",
              "0  London's creepiest cemetery was once the site ...   \n",
              "1                                                NaN   \n",
              "2  A beautiful and abandoned New York subway stat...   \n",
              "3  This ornate Victorian marketplace was the sett...   \n",
              "4     A huge musical instrument played by the ocean.   \n",
              "5  The vast, legendary catacombs hold secrets muc...   \n",
              "6  A terrific purveyor of natural history objects...   \n",
              "7  A psychedelic labyrinth on the San Francisco bay.   \n",
              "8  During prohibition, corrupt city officials ran...   \n",
              "9  An artsy hidden staircase leads to breathtakin...   \n",
              "\n",
              "                                         placeNearby  \\\n",
              "0  [\"World's Largest Potted Plant\", 'Dick Whittin...   \n",
              "1                                                NaN   \n",
              "2  ['African Burial Ground National Monument', 'T...   \n",
              "3  ['The Cornhill Devils ', \"London's Original an...   \n",
              "4  ['Long Now Orrery', 'The Stern of the Briganti...   \n",
              "5  ['Sculptures de Décure', 'Arago Medallions', \"...   \n",
              "6  [\"Merchant's House Museum\", 'The Brown Buildin...   \n",
              "7  ['Musée Mécanique', 'Jack Early Park', \"Fior D...   \n",
              "8  ['Cathedral of Our Lady of the Angels', 'Trifo...   \n",
              "9  ['Helen Crocker Russell Library of Horticultur...   \n",
              "\n",
              "                                        placeAddress  placeAlt  placeLong  \\\n",
              "0  Swain's Lane, Highgate London, England, N6 Uni...   51.5675    -0.1483   \n",
              "1                                                NaN       NaN        NaN   \n",
              "2  31 Centre St New York, New York, 10007 United ...   40.7134   -74.0046   \n",
              "3               London, England, EC3V United Kingdom   51.5126    -0.0834   \n",
              "4  83 Marina Green Dr San Francisco, California, ...   37.8085  -122.4401   \n",
              "5      1 Place Denfert-Rochereau Paris, 75014 France   48.8343     2.3322   \n",
              "6  687 Broadway New York, New York, 10012 United ...   40.7281   -73.9948   \n",
              "7   Pier 39, Building O-11 San Francisco, Califor...   37.8100  -122.4104   \n",
              "8  320 W Temple St Los Angeles, California, 90012...   34.0558  -118.2447   \n",
              "9  1700 16th Avenue San Francisco, California, 94...   37.7563  -122.4735   \n",
              "\n",
              "                              placeEditors       placePubDate  \\\n",
              "0                          ['anthonyhogg']     August 9, 2014   \n",
              "1                                      NaN                NaN   \n",
              "2        ['rebekah-otto', 'annetta-black']        May 8, 2010   \n",
              "3           ['meghanneal', 'gavin-292130']     August 1, 2016   \n",
              "4                   ['mbison', 'bylow1md']  November 21, 2008   \n",
              "5                   ['cpilgrim', 'akazem']  February 13, 2009   \n",
              "6                    ['mbison', 'ramosju']  November 21, 2008   \n",
              "7  ['guttersniperebecca', 'douglasthayer']  December 20, 2016   \n",
              "8                ['rachel', 'racheldoyle']  February 24, 2012   \n",
              "9               ['rebeccaclara', 'rachel']  February 29, 2012   \n",
              "\n",
              "                                   placeRelatedLists  \\\n",
              "0  [\"The World's Top 100 Wonders in 2018\", \"Londo...   \n",
              "1                                                NaN   \n",
              "2  ['30 Unexpected Places to Have a Joyful Advent...   \n",
              "3  ['The Ultimate Guide to Stunning, Surprising, ...   \n",
              "4  [\"Leonardo Nam's 16 Quirky Roadside Attraction...   \n",
              "5  ['19 Catacombs Sure to Tingle Your Spine', \"Th...   \n",
              "6  [\"The World's Top 100 Wonders in 2018\", \"New Y...   \n",
              "7  ['24 Mesmerizing Mazes and Labyrinths', \"The W...   \n",
              "8  [\"The World's Top 100 Wonders in 2018\", \"Los A...   \n",
              "9  [\"Leonardo Nam's 16 Quirky Roadside Attraction...   \n",
              "\n",
              "                                  placeRelatedPlaces  \\\n",
              "0  ['Jewett City Vampires', 'Tomb of the Mather F...   \n",
              "1                                                NaN   \n",
              "2  ['Crystal Palace Subway', 'Moscow Metro Statio...   \n",
              "3  ['Rivendell', 'Bagdad Cafe', 'Gare de la Ciota...   \n",
              "4  ['Sea Organ', 'Silent Green Kulturquartier', \"...   \n",
              "5  ['Ossario di San Martino', 'Leuk Charnel House...   \n",
              "6  ['Kunstkammer Georg Laue', 'Ospedale delle Bam...   \n",
              "7  ['The Winchester Mizmaze', 'Cathedral of Thorn...   \n",
              "8  ['Tower of Wind', 'Catacombs of Washington, D....   \n",
              "9  [\"Glasgow City Chambers' Staircase\", 'Fortress...   \n",
              "\n",
              "                                            placeURL  \n",
              "0  http://www.atlasobscura.com/places/highgate-ce...  \n",
              "1                                                NaN  \n",
              "2  http://www.atlasobscura.com/places/city-hall-s...  \n",
              "3  http://www.atlasobscura.com/places/leadenhall-...  \n",
              "4      http://www.atlasobscura.com/places/wave-organ  \n",
              "5  http://www.atlasobscura.com/places/catacombes-...  \n",
              "6  http://www.atlasobscura.com/places/evolution-n...  \n",
              "7  http://www.atlasobscura.com/places/magowans-in...  \n",
              "8  http://www.atlasobscura.com/places/underground...  \n",
              "9  http://www.atlasobscura.com/places/secret-tile...  "
            ],
            "text/html": [
              "\n",
              "  <div id=\"df-a3f5cd42-e274-4d2e-9c76-e1a8d99d0c4f\">\n",
              "    <div class=\"colab-df-container\">\n",
              "      <div>\n",
              "<style scoped>\n",
              "    .dataframe tbody tr th:only-of-type {\n",
              "        vertical-align: middle;\n",
              "    }\n",
              "\n",
              "    .dataframe tbody tr th {\n",
              "        vertical-align: top;\n",
              "    }\n",
              "\n",
              "    .dataframe thead th {\n",
              "        text-align: right;\n",
              "    }\n",
              "</style>\n",
              "<table border=\"1\" class=\"dataframe\">\n",
              "  <thead>\n",
              "    <tr style=\"text-align: right;\">\n",
              "      <th></th>\n",
              "      <th>placeName</th>\n",
              "      <th>placeTags</th>\n",
              "      <th>numPeopleVisited</th>\n",
              "      <th>numPeopleWant</th>\n",
              "      <th>placeDesc</th>\n",
              "      <th>placeShortDesc</th>\n",
              "      <th>placeNearby</th>\n",
              "      <th>placeAddress</th>\n",
              "      <th>placeAlt</th>\n",
              "      <th>placeLong</th>\n",
              "      <th>placeEditors</th>\n",
              "      <th>placePubDate</th>\n",
              "      <th>placeRelatedLists</th>\n",
              "      <th>placeRelatedPlaces</th>\n",
              "      <th>placeURL</th>\n",
              "    </tr>\n",
              "  </thead>\n",
              "  <tbody>\n",
              "    <tr>\n",
              "      <th>0</th>\n",
              "      <td>Highgate Cemetery</td>\n",
              "      <td>['rivals-week', 'vampires', 'hoaxes', 'occult'...</td>\n",
              "      <td>2625.0</td>\n",
              "      <td>8208.0</td>\n",
              "      <td>Opened in 1839, Highgate is one of London’s mo...</td>\n",
              "      <td>London's creepiest cemetery was once the site ...</td>\n",
              "      <td>[\"World's Largest Potted Plant\", 'Dick Whittin...</td>\n",
              "      <td>Swain's Lane, Highgate London, England, N6 Uni...</td>\n",
              "      <td>51.5675</td>\n",
              "      <td>-0.1483</td>\n",
              "      <td>['anthonyhogg']</td>\n",
              "      <td>August 9, 2014</td>\n",
              "      <td>[\"The World's Top 100 Wonders in 2018\", \"Londo...</td>\n",
              "      <td>['Jewett City Vampires', 'Tomb of the Mather F...</td>\n",
              "      <td>http://www.atlasobscura.com/places/highgate-ce...</td>\n",
              "    </tr>\n",
              "    <tr>\n",
              "      <th>1</th>\n",
              "      <td>NaN</td>\n",
              "      <td>NaN</td>\n",
              "      <td>NaN</td>\n",
              "      <td>NaN</td>\n",
              "      <td>NaN</td>\n",
              "      <td>NaN</td>\n",
              "      <td>NaN</td>\n",
              "      <td>NaN</td>\n",
              "      <td>NaN</td>\n",
              "      <td>NaN</td>\n",
              "      <td>NaN</td>\n",
              "      <td>NaN</td>\n",
              "      <td>NaN</td>\n",
              "      <td>NaN</td>\n",
              "      <td>NaN</td>\n",
              "    </tr>\n",
              "    <tr>\n",
              "      <th>2</th>\n",
              "      <td>City Hall Station</td>\n",
              "      <td>['subways', 'subterranean', 'infrastructure', ...</td>\n",
              "      <td>1834.0</td>\n",
              "      <td>8606.0</td>\n",
              "      <td>The first New York City subway was built and o...</td>\n",
              "      <td>A beautiful and abandoned New York subway stat...</td>\n",
              "      <td>['African Burial Ground National Monument', 'T...</td>\n",
              "      <td>31 Centre St New York, New York, 10007 United ...</td>\n",
              "      <td>40.7134</td>\n",
              "      <td>-74.0046</td>\n",
              "      <td>['rebekah-otto', 'annetta-black']</td>\n",
              "      <td>May 8, 2010</td>\n",
              "      <td>['30 Unexpected Places to Have a Joyful Advent...</td>\n",
              "      <td>['Crystal Palace Subway', 'Moscow Metro Statio...</td>\n",
              "      <td>http://www.atlasobscura.com/places/city-hall-s...</td>\n",
              "    </tr>\n",
              "    <tr>\n",
              "      <th>3</th>\n",
              "      <td>Leadenhall Market</td>\n",
              "      <td>['markets', 'film-locations', 'film']</td>\n",
              "      <td>3142.0</td>\n",
              "      <td>7595.0</td>\n",
              "      <td>The ornate 19th-century painted roof and cobbl...</td>\n",
              "      <td>This ornate Victorian marketplace was the sett...</td>\n",
              "      <td>['The Cornhill Devils ', \"London's Original an...</td>\n",
              "      <td>London, England, EC3V United Kingdom</td>\n",
              "      <td>51.5126</td>\n",
              "      <td>-0.0834</td>\n",
              "      <td>['meghanneal', 'gavin-292130']</td>\n",
              "      <td>August 1, 2016</td>\n",
              "      <td>['The Ultimate Guide to Stunning, Surprising, ...</td>\n",
              "      <td>['Rivendell', 'Bagdad Cafe', 'Gare de la Ciota...</td>\n",
              "      <td>http://www.atlasobscura.com/places/leadenhall-...</td>\n",
              "    </tr>\n",
              "    <tr>\n",
              "      <th>4</th>\n",
              "      <td>The Wave Organ</td>\n",
              "      <td>['sea-organ', 'aletrail', 'sounds', 'music', '...</td>\n",
              "      <td>2430.0</td>\n",
              "      <td>7425.0</td>\n",
              "      <td>Located on a jetty in the San Francisco Bay, t...</td>\n",
              "      <td>A huge musical instrument played by the ocean.</td>\n",
              "      <td>['Long Now Orrery', 'The Stern of the Briganti...</td>\n",
              "      <td>83 Marina Green Dr San Francisco, California, ...</td>\n",
              "      <td>37.8085</td>\n",
              "      <td>-122.4401</td>\n",
              "      <td>['mbison', 'bylow1md']</td>\n",
              "      <td>November 21, 2008</td>\n",
              "      <td>[\"Leonardo Nam's 16 Quirky Roadside Attraction...</td>\n",
              "      <td>['Sea Organ', 'Silent Green Kulturquartier', \"...</td>\n",
              "      <td>http://www.atlasobscura.com/places/wave-organ</td>\n",
              "    </tr>\n",
              "    <tr>\n",
              "      <th>5</th>\n",
              "      <td>Catacombes de Paris</td>\n",
              "      <td>['ossuaries', 'memento-mori', 'catacombs-and-c...</td>\n",
              "      <td>4456.0</td>\n",
              "      <td>7057.0</td>\n",
              "      <td>In 2004, Parisian police were assigned to do a...</td>\n",
              "      <td>The vast, legendary catacombs hold secrets muc...</td>\n",
              "      <td>['Sculptures de Décure', 'Arago Medallions', \"...</td>\n",
              "      <td>1 Place Denfert-Rochereau Paris, 75014 France</td>\n",
              "      <td>48.8343</td>\n",
              "      <td>2.3322</td>\n",
              "      <td>['cpilgrim', 'akazem']</td>\n",
              "      <td>February 13, 2009</td>\n",
              "      <td>['19 Catacombs Sure to Tingle Your Spine', \"Th...</td>\n",
              "      <td>['Ossario di San Martino', 'Leuk Charnel House...</td>\n",
              "      <td>http://www.atlasobscura.com/places/catacombes-...</td>\n",
              "    </tr>\n",
              "    <tr>\n",
              "      <th>6</th>\n",
              "      <td>The Evolution Store</td>\n",
              "      <td>['wonder-cabinets', 'purveyors-of-curiosities'...</td>\n",
              "      <td>2198.0</td>\n",
              "      <td>6951.0</td>\n",
              "      <td>Evolution stands out among the clothing stores...</td>\n",
              "      <td>A terrific purveyor of natural history objects...</td>\n",
              "      <td>[\"Merchant's House Museum\", 'The Brown Buildin...</td>\n",
              "      <td>687 Broadway New York, New York, 10012 United ...</td>\n",
              "      <td>40.7281</td>\n",
              "      <td>-73.9948</td>\n",
              "      <td>['mbison', 'ramosju']</td>\n",
              "      <td>November 21, 2008</td>\n",
              "      <td>[\"The World's Top 100 Wonders in 2018\", \"New Y...</td>\n",
              "      <td>['Kunstkammer Georg Laue', 'Ospedale delle Bam...</td>\n",
              "      <td>http://www.atlasobscura.com/places/evolution-n...</td>\n",
              "    </tr>\n",
              "    <tr>\n",
              "      <th>7</th>\n",
              "      <td>Magowan's Infinite Mirror Maze</td>\n",
              "      <td>['optical-illusions', 'labyrinths', 'optical-o...</td>\n",
              "      <td>909.0</td>\n",
              "      <td>6507.0</td>\n",
              "      <td>People stumble about the labyrinth, arms outst...</td>\n",
              "      <td>A psychedelic labyrinth on the San Francisco bay.</td>\n",
              "      <td>['Musée Mécanique', 'Jack Early Park', \"Fior D...</td>\n",
              "      <td>Pier 39, Building O-11 San Francisco, Califor...</td>\n",
              "      <td>37.8100</td>\n",
              "      <td>-122.4104</td>\n",
              "      <td>['guttersniperebecca', 'douglasthayer']</td>\n",
              "      <td>December 20, 2016</td>\n",
              "      <td>['24 Mesmerizing Mazes and Labyrinths', \"The W...</td>\n",
              "      <td>['The Winchester Mizmaze', 'Cathedral of Thorn...</td>\n",
              "      <td>http://www.atlasobscura.com/places/magowans-in...</td>\n",
              "    </tr>\n",
              "    <tr>\n",
              "      <th>8</th>\n",
              "      <td>Underground Tunnels of Los Angeles</td>\n",
              "      <td>['tunnels', 'subterranean-sites', 'architectur...</td>\n",
              "      <td>660.0</td>\n",
              "      <td>6440.0</td>\n",
              "      <td>While the rest of the country was forced to go...</td>\n",
              "      <td>During prohibition, corrupt city officials ran...</td>\n",
              "      <td>['Cathedral of Our Lady of the Angels', 'Trifo...</td>\n",
              "      <td>320 W Temple St Los Angeles, California, 90012...</td>\n",
              "      <td>34.0558</td>\n",
              "      <td>-118.2447</td>\n",
              "      <td>['rachel', 'racheldoyle']</td>\n",
              "      <td>February 24, 2012</td>\n",
              "      <td>[\"The World's Top 100 Wonders in 2018\", \"Los A...</td>\n",
              "      <td>['Tower of Wind', 'Catacombs of Washington, D....</td>\n",
              "      <td>http://www.atlasobscura.com/places/underground...</td>\n",
              "    </tr>\n",
              "    <tr>\n",
              "      <th>9</th>\n",
              "      <td>Secret Tiled Staircase</td>\n",
              "      <td>['stairs', 'outsider-art', 'architectural-oddi...</td>\n",
              "      <td>2009.0</td>\n",
              "      <td>6313.0</td>\n",
              "      <td>The 16th Avenue Staircase is 163 steps of mosa...</td>\n",
              "      <td>An artsy hidden staircase leads to breathtakin...</td>\n",
              "      <td>['Helen Crocker Russell Library of Horticultur...</td>\n",
              "      <td>1700 16th Avenue San Francisco, California, 94...</td>\n",
              "      <td>37.7563</td>\n",
              "      <td>-122.4735</td>\n",
              "      <td>['rebeccaclara', 'rachel']</td>\n",
              "      <td>February 29, 2012</td>\n",
              "      <td>[\"Leonardo Nam's 16 Quirky Roadside Attraction...</td>\n",
              "      <td>[\"Glasgow City Chambers' Staircase\", 'Fortress...</td>\n",
              "      <td>http://www.atlasobscura.com/places/secret-tile...</td>\n",
              "    </tr>\n",
              "  </tbody>\n",
              "</table>\n",
              "</div>\n",
              "      <button class=\"colab-df-convert\" onclick=\"convertToInteractive('df-a3f5cd42-e274-4d2e-9c76-e1a8d99d0c4f')\"\n",
              "              title=\"Convert this dataframe to an interactive table.\"\n",
              "              style=\"display:none;\">\n",
              "        \n",
              "  <svg xmlns=\"http://www.w3.org/2000/svg\" height=\"24px\"viewBox=\"0 0 24 24\"\n",
              "       width=\"24px\">\n",
              "    <path d=\"M0 0h24v24H0V0z\" fill=\"none\"/>\n",
              "    <path d=\"M18.56 5.44l.94 2.06.94-2.06 2.06-.94-2.06-.94-.94-2.06-.94 2.06-2.06.94zm-11 1L8.5 8.5l.94-2.06 2.06-.94-2.06-.94L8.5 2.5l-.94 2.06-2.06.94zm10 10l.94 2.06.94-2.06 2.06-.94-2.06-.94-.94-2.06-.94 2.06-2.06.94z\"/><path d=\"M17.41 7.96l-1.37-1.37c-.4-.4-.92-.59-1.43-.59-.52 0-1.04.2-1.43.59L10.3 9.45l-7.72 7.72c-.78.78-.78 2.05 0 2.83L4 21.41c.39.39.9.59 1.41.59.51 0 1.02-.2 1.41-.59l7.78-7.78 2.81-2.81c.8-.78.8-2.07 0-2.86zM5.41 20L4 18.59l7.72-7.72 1.47 1.35L5.41 20z\"/>\n",
              "  </svg>\n",
              "      </button>\n",
              "      \n",
              "  <style>\n",
              "    .colab-df-container {\n",
              "      display:flex;\n",
              "      flex-wrap:wrap;\n",
              "      gap: 12px;\n",
              "    }\n",
              "\n",
              "    .colab-df-convert {\n",
              "      background-color: #E8F0FE;\n",
              "      border: none;\n",
              "      border-radius: 50%;\n",
              "      cursor: pointer;\n",
              "      display: none;\n",
              "      fill: #1967D2;\n",
              "      height: 32px;\n",
              "      padding: 0 0 0 0;\n",
              "      width: 32px;\n",
              "    }\n",
              "\n",
              "    .colab-df-convert:hover {\n",
              "      background-color: #E2EBFA;\n",
              "      box-shadow: 0px 1px 2px rgba(60, 64, 67, 0.3), 0px 1px 3px 1px rgba(60, 64, 67, 0.15);\n",
              "      fill: #174EA6;\n",
              "    }\n",
              "\n",
              "    [theme=dark] .colab-df-convert {\n",
              "      background-color: #3B4455;\n",
              "      fill: #D2E3FC;\n",
              "    }\n",
              "\n",
              "    [theme=dark] .colab-df-convert:hover {\n",
              "      background-color: #434B5C;\n",
              "      box-shadow: 0px 1px 3px 1px rgba(0, 0, 0, 0.15);\n",
              "      filter: drop-shadow(0px 1px 2px rgba(0, 0, 0, 0.3));\n",
              "      fill: #FFFFFF;\n",
              "    }\n",
              "  </style>\n",
              "\n",
              "      <script>\n",
              "        const buttonEl =\n",
              "          document.querySelector('#df-a3f5cd42-e274-4d2e-9c76-e1a8d99d0c4f button.colab-df-convert');\n",
              "        buttonEl.style.display =\n",
              "          google.colab.kernel.accessAllowed ? 'block' : 'none';\n",
              "\n",
              "        async function convertToInteractive(key) {\n",
              "          const element = document.querySelector('#df-a3f5cd42-e274-4d2e-9c76-e1a8d99d0c4f');\n",
              "          const dataTable =\n",
              "            await google.colab.kernel.invokeFunction('convertToInteractive',\n",
              "                                                     [key], {});\n",
              "          if (!dataTable) return;\n",
              "\n",
              "          const docLinkHtml = 'Like what you see? Visit the ' +\n",
              "            '<a target=\"_blank\" href=https://colab.research.google.com/notebooks/data_table.ipynb>data table notebook</a>'\n",
              "            + ' to learn more about interactive tables.';\n",
              "          element.innerHTML = '';\n",
              "          dataTable['output_type'] = 'display_data';\n",
              "          await google.colab.output.renderOutput(dataTable, element);\n",
              "          const docLink = document.createElement('div');\n",
              "          docLink.innerHTML = docLinkHtml;\n",
              "          element.appendChild(docLink);\n",
              "        }\n",
              "      </script>\n",
              "    </div>\n",
              "  </div>\n",
              "  "
            ]
          },
          "metadata": {},
          "execution_count": 59
        }
      ]
    },
    {
      "cell_type": "code",
      "source": [
        "#come salvare file tsv\n",
        "\n",
        "#with open(f'./all_Pages/{i}/{k}', encoding='utf8') as fp:\n",
        "  #csv.writer(fp, delimiter = \"\\t\").writerow([placeTag, placeName....])"
      ],
      "metadata": {
        "id": "yaUl36yqvMlx"
      },
      "execution_count": null,
      "outputs": []
    },
    {
      "cell_type": "markdown",
      "source": [
        "## 2. Search Engine"
      ],
      "metadata": {
        "id": "Yv8T-SFkJltX"
      }
    },
    {
      "cell_type": "code",
      "source": [
        "from nltk.corpus import stopwords\n",
        "from nltk.stem import PorterStemmer\n",
        "from nltk.tokenize import RegexpTokenizer\n",
        "from nltk.tokenize import word_tokenize\n",
        "\n",
        "nltk.download('stopwords')\n",
        "nltk.download('punkt')\n",
        "\n",
        "import string"
      ],
      "metadata": {
        "id": "0wjOsQ-gJoU6",
        "outputId": "0939bbe8-689e-4d13-e940-91bb5b3e0a81",
        "colab": {
          "base_uri": "https://localhost:8080/"
        }
      },
      "execution_count": 3,
      "outputs": [
        {
          "output_type": "stream",
          "name": "stderr",
          "text": [
            "[nltk_data] Downloading package stopwords to /root/nltk_data...\n",
            "[nltk_data]   Unzipping corpora/stopwords.zip.\n",
            "[nltk_data] Downloading package punkt to /root/nltk_data...\n",
            "[nltk_data]   Unzipping tokenizers/punkt.zip.\n"
          ]
        }
      ]
    },
    {
      "cell_type": "code",
      "source": [
        "# from tables.index import join_path\n",
        "# def cleaning(line):\n",
        "    \n",
        "#     #filtered_line = []\n",
        "#     stopWords = set(stopwords.words(\"english\"))\n",
        "#     punc =  set(string.punctuation) \n",
        "#     virgolette=['\"', \"'\"]\n",
        "#     newpunc=punc.union(virgolette)\n",
        "#     wordTokens = word_tokenize(line)\n",
        "#     ps = PorterStemmer()\n",
        "    \n",
        "#     filtered_line=\"\".join([ps.stem(w) for w in wordTokens if (w not in stopWords) and (w not in string.punctuation)])\n",
        "#     #filtered_line.append([ps.stem(w) for w in wordTokens if (w not in stopWords) and (w not in newpunc)])\n",
        "    \n",
        "#     return filtered_line"
      ],
      "metadata": {
        "id": "TBNW_wLyjtD7"
      },
      "execution_count": 39,
      "outputs": []
    },
    {
      "cell_type": "code",
      "source": [
        "def clean(line):\n",
        "  #split into token\n",
        "  tokens = word_tokenize(line)\n",
        "  #convert to lowercase\n",
        "  tokens = [w.lower() for w in tokens]\n",
        "  #remove punctuation\n",
        "  table = str.maketrans('', '', string.punctuation)\n",
        "  stripped = [w.translate(table) for w in tokens]\n",
        "  # remove remaining tokens that are not alphabetic\n",
        "  words = [word for word in stripped if word.isalpha()]\n",
        "  #filterout stopwords\n",
        "  stop_words = set(stopwords.words('english'))\n",
        "  words = [w for w in words if not w in stop_words]\n",
        "  #stemming\n",
        "  ps = PorterStemmer()\n",
        "  stem_sentence=[]\n",
        "\n",
        "  for word in words:\n",
        "    stem_sentence.append(ps.stem(word))\n",
        "\n",
        "  return stem_sentence"
      ],
      "metadata": {
        "id": "HmnYC9vx0cz0"
      },
      "execution_count": 70,
      "outputs": []
    },
    {
      "cell_type": "code",
      "source": [
        "desc_col=pd.read_csv('/content/drive/MyDrive/ADM_HW3/features.tsv', usecols=['placeDesc'] ,sep='\\t')"
      ],
      "metadata": {
        "id": "IKoMLVn2_w-r"
      },
      "execution_count": 97,
      "outputs": []
    },
    {
      "cell_type": "code",
      "source": [
        "desc_col.info()"
      ],
      "metadata": {
        "colab": {
          "base_uri": "https://localhost:8080/"
        },
        "id": "YalJnWVIDf3h",
        "outputId": "d9fba1b4-c55c-4a64-c153-2777b57a245a"
      },
      "execution_count": 98,
      "outputs": [
        {
          "output_type": "stream",
          "name": "stdout",
          "text": [
            "<class 'pandas.core.frame.DataFrame'>\n",
            "RangeIndex: 7201 entries, 0 to 7200\n",
            "Data columns (total 1 columns):\n",
            " #   Column     Non-Null Count  Dtype \n",
            "---  ------     --------------  ----- \n",
            " 0   placeDesc  7199 non-null   object\n",
            "dtypes: object(1)\n",
            "memory usage: 56.4+ KB\n"
          ]
        }
      ]
    },
    {
      "cell_type": "code",
      "source": [
        "desc_col[\"placeDesc\"] = desc_col[\"placeDesc\"].map(lambda a: a.toString())"
      ],
      "metadata": {
        "colab": {
          "base_uri": "https://localhost:8080/",
          "height": 242
        },
        "id": "91zcsDLlBk7S",
        "outputId": "a40b7d8c-4e7c-4550-aa46-f2b568ca5221"
      },
      "execution_count": 96,
      "outputs": [
        {
          "output_type": "error",
          "ename": "AttributeError",
          "evalue": "ignored",
          "traceback": [
            "\u001b[0;31m---------------------------------------------------------------------------\u001b[0m",
            "\u001b[0;31mAttributeError\u001b[0m                            Traceback (most recent call last)",
            "\u001b[0;32m<ipython-input-96-ac2371d27b6d>\u001b[0m in \u001b[0;36m<module>\u001b[0;34m\u001b[0m\n\u001b[0;32m----> 1\u001b[0;31m \u001b[0mdesc_col\u001b[0m\u001b[0;34m[\u001b[0m\u001b[0;34m\"placeDesc\"\u001b[0m\u001b[0;34m]\u001b[0m \u001b[0;34m=\u001b[0m \u001b[0mdesc_col\u001b[0m\u001b[0;34m[\u001b[0m\u001b[0;34m\"placeDesc\"\u001b[0m\u001b[0;34m]\u001b[0m\u001b[0;34m.\u001b[0m\u001b[0mmap\u001b[0m\u001b[0;34m(\u001b[0m\u001b[0;32mlambda\u001b[0m \u001b[0ma\u001b[0m\u001b[0;34m:\u001b[0m \u001b[0ma\u001b[0m\u001b[0;34m.\u001b[0m\u001b[0mtoString\u001b[0m\u001b[0;34m(\u001b[0m\u001b[0;34m)\u001b[0m\u001b[0;34m)\u001b[0m\u001b[0;34m\u001b[0m\u001b[0;34m\u001b[0m\u001b[0m\n\u001b[0m",
            "\u001b[0;32m/usr/local/lib/python3.7/dist-packages/pandas/core/series.py\u001b[0m in \u001b[0;36mmap\u001b[0;34m(self, arg, na_action)\u001b[0m\n\u001b[1;32m   4159\u001b[0m         \u001b[0mdtype\u001b[0m\u001b[0;34m:\u001b[0m \u001b[0mobject\u001b[0m\u001b[0;34m\u001b[0m\u001b[0;34m\u001b[0m\u001b[0m\n\u001b[1;32m   4160\u001b[0m         \"\"\"\n\u001b[0;32m-> 4161\u001b[0;31m         \u001b[0mnew_values\u001b[0m \u001b[0;34m=\u001b[0m \u001b[0msuper\u001b[0m\u001b[0;34m(\u001b[0m\u001b[0;34m)\u001b[0m\u001b[0;34m.\u001b[0m\u001b[0m_map_values\u001b[0m\u001b[0;34m(\u001b[0m\u001b[0marg\u001b[0m\u001b[0;34m,\u001b[0m \u001b[0mna_action\u001b[0m\u001b[0;34m=\u001b[0m\u001b[0mna_action\u001b[0m\u001b[0;34m)\u001b[0m\u001b[0;34m\u001b[0m\u001b[0;34m\u001b[0m\u001b[0m\n\u001b[0m\u001b[1;32m   4162\u001b[0m         return self._constructor(new_values, index=self.index).__finalize__(\n\u001b[1;32m   4163\u001b[0m             \u001b[0mself\u001b[0m\u001b[0;34m,\u001b[0m \u001b[0mmethod\u001b[0m\u001b[0;34m=\u001b[0m\u001b[0;34m\"map\"\u001b[0m\u001b[0;34m\u001b[0m\u001b[0;34m\u001b[0m\u001b[0m\n",
            "\u001b[0;32m/usr/local/lib/python3.7/dist-packages/pandas/core/base.py\u001b[0m in \u001b[0;36m_map_values\u001b[0;34m(self, mapper, na_action)\u001b[0m\n\u001b[1;32m    868\u001b[0m \u001b[0;34m\u001b[0m\u001b[0m\n\u001b[1;32m    869\u001b[0m         \u001b[0;31m# mapper is a function\u001b[0m\u001b[0;34m\u001b[0m\u001b[0;34m\u001b[0m\u001b[0;34m\u001b[0m\u001b[0m\n\u001b[0;32m--> 870\u001b[0;31m         \u001b[0mnew_values\u001b[0m \u001b[0;34m=\u001b[0m \u001b[0mmap_f\u001b[0m\u001b[0;34m(\u001b[0m\u001b[0mvalues\u001b[0m\u001b[0;34m,\u001b[0m \u001b[0mmapper\u001b[0m\u001b[0;34m)\u001b[0m\u001b[0;34m\u001b[0m\u001b[0;34m\u001b[0m\u001b[0m\n\u001b[0m\u001b[1;32m    871\u001b[0m \u001b[0;34m\u001b[0m\u001b[0m\n\u001b[1;32m    872\u001b[0m         \u001b[0;32mreturn\u001b[0m \u001b[0mnew_values\u001b[0m\u001b[0;34m\u001b[0m\u001b[0;34m\u001b[0m\u001b[0m\n",
            "\u001b[0;32m/usr/local/lib/python3.7/dist-packages/pandas/_libs/lib.pyx\u001b[0m in \u001b[0;36mpandas._libs.lib.map_infer\u001b[0;34m()\u001b[0m\n",
            "\u001b[0;32m<ipython-input-96-ac2371d27b6d>\u001b[0m in \u001b[0;36m<lambda>\u001b[0;34m(a)\u001b[0m\n\u001b[0;32m----> 1\u001b[0;31m \u001b[0mdesc_col\u001b[0m\u001b[0;34m[\u001b[0m\u001b[0;34m\"placeDesc\"\u001b[0m\u001b[0;34m]\u001b[0m \u001b[0;34m=\u001b[0m \u001b[0mdesc_col\u001b[0m\u001b[0;34m[\u001b[0m\u001b[0;34m\"placeDesc\"\u001b[0m\u001b[0;34m]\u001b[0m\u001b[0;34m.\u001b[0m\u001b[0mmap\u001b[0m\u001b[0;34m(\u001b[0m\u001b[0;32mlambda\u001b[0m \u001b[0ma\u001b[0m\u001b[0;34m:\u001b[0m \u001b[0ma\u001b[0m\u001b[0;34m.\u001b[0m\u001b[0mtoString\u001b[0m\u001b[0;34m(\u001b[0m\u001b[0;34m)\u001b[0m\u001b[0;34m)\u001b[0m\u001b[0;34m\u001b[0m\u001b[0;34m\u001b[0m\u001b[0m\n\u001b[0m",
            "\u001b[0;31mAttributeError\u001b[0m: 'str' object has no attribute 'toString'"
          ]
        }
      ]
    },
    {
      "cell_type": "code",
      "source": [],
      "metadata": {
        "colab": {
          "base_uri": "https://localhost:8080/",
          "height": 165
        },
        "id": "ooore_5WC4pc",
        "outputId": "dcc4f404-a289-48a8-dbb9-c65306bdb922"
      },
      "execution_count": 94,
      "outputs": [
        {
          "output_type": "error",
          "ename": "TypeError",
          "evalue": "ignored",
          "traceback": [
            "\u001b[0;31m---------------------------------------------------------------------------\u001b[0m",
            "\u001b[0;31mTypeError\u001b[0m                                 Traceback (most recent call last)",
            "\u001b[0;32m<ipython-input-94-c41a09669753>\u001b[0m in \u001b[0;36m<module>\u001b[0;34m\u001b[0m\n\u001b[0;32m----> 1\u001b[0;31m \u001b[0mdesc_col\u001b[0m\u001b[0;34m(\u001b[0m\u001b[0;36m10\u001b[0m\u001b[0;34m)\u001b[0m\u001b[0;34m\u001b[0m\u001b[0;34m\u001b[0m\u001b[0m\n\u001b[0m",
            "\u001b[0;31mTypeError\u001b[0m: 'str' object is not callable"
          ]
        }
      ]
    },
    {
      "cell_type": "code",
      "source": [
        "desc_col=desc_col.apply(clean,axis=0)"
      ],
      "metadata": {
        "colab": {
          "base_uri": "https://localhost:8080/",
          "height": 165
        },
        "id": "ZnNl6_In_xEL",
        "outputId": "4f0771b1-edcd-4497-b3df-d925226cb0a9"
      },
      "execution_count": 92,
      "outputs": [
        {
          "output_type": "error",
          "ename": "AttributeError",
          "evalue": "ignored",
          "traceback": [
            "\u001b[0;31m---------------------------------------------------------------------------\u001b[0m",
            "\u001b[0;31mAttributeError\u001b[0m                            Traceback (most recent call last)",
            "\u001b[0;32m<ipython-input-92-d424aeb59a1d>\u001b[0m in \u001b[0;36m<module>\u001b[0;34m\u001b[0m\n\u001b[0;32m----> 1\u001b[0;31m \u001b[0mdesc_col\u001b[0m\u001b[0;34m=\u001b[0m\u001b[0mdesc_col\u001b[0m\u001b[0;34m.\u001b[0m\u001b[0mapply\u001b[0m\u001b[0;34m(\u001b[0m\u001b[0mclean\u001b[0m\u001b[0;34m,\u001b[0m\u001b[0maxis\u001b[0m\u001b[0;34m=\u001b[0m\u001b[0;36m0\u001b[0m\u001b[0;34m)\u001b[0m\u001b[0;34m\u001b[0m\u001b[0;34m\u001b[0m\u001b[0m\n\u001b[0m",
            "\u001b[0;31mAttributeError\u001b[0m: 'str' object has no attribute 'apply'"
          ]
        }
      ]
    },
    {
      "cell_type": "markdown",
      "source": [
        "### 2.1.1 Create your index!"
      ],
      "metadata": {
        "id": "2xsBARBUJoeC"
      }
    },
    {
      "cell_type": "code",
      "source": [],
      "metadata": {
        "id": "3ntzFHr7JrRJ"
      },
      "execution_count": null,
      "outputs": []
    },
    {
      "cell_type": "code",
      "source": [],
      "metadata": {
        "id": "ZxqbgGOUBjRL"
      },
      "execution_count": null,
      "outputs": []
    },
    {
      "cell_type": "markdown",
      "source": [
        "### 2.1.2 Execute the query"
      ],
      "metadata": {
        "id": "PnzEemrYJrbD"
      }
    },
    {
      "cell_type": "code",
      "source": [],
      "metadata": {
        "id": "3Dj8H7MJJuYF"
      },
      "execution_count": null,
      "outputs": []
    },
    {
      "cell_type": "markdown",
      "source": [
        "### 2.2 Conjunctive query & Ranking score"
      ],
      "metadata": {
        "id": "4sUYm1BvJuf4"
      }
    },
    {
      "cell_type": "code",
      "source": [],
      "metadata": {
        "id": "Skf6iJ7hJw2t"
      },
      "execution_count": null,
      "outputs": []
    },
    {
      "cell_type": "markdown",
      "source": [
        "### 2.2.1 Inverted index"
      ],
      "metadata": {
        "id": "JnJqLICZJxFB"
      }
    },
    {
      "cell_type": "code",
      "source": [],
      "metadata": {
        "id": "pSNTyrLvJzvT"
      },
      "execution_count": null,
      "outputs": []
    },
    {
      "cell_type": "markdown",
      "source": [
        "### 2.2.2 Execute the query"
      ],
      "metadata": {
        "id": "sRNXsyLNJz4K"
      }
    },
    {
      "cell_type": "code",
      "source": [],
      "metadata": {
        "id": "yOOV24BAJ2ex"
      },
      "execution_count": null,
      "outputs": []
    },
    {
      "cell_type": "markdown",
      "source": [
        "## 3. Define a new score!"
      ],
      "metadata": {
        "id": "NtdfZTIKJ2qf"
      }
    },
    {
      "cell_type": "code",
      "source": [],
      "metadata": {
        "id": "zGKEAK8ZJ7Dh"
      },
      "execution_count": null,
      "outputs": []
    },
    {
      "cell_type": "markdown",
      "source": [
        "## 4. Visualizing the most relevant places"
      ],
      "metadata": {
        "id": "yNNOCxL3J7K2"
      }
    },
    {
      "cell_type": "code",
      "source": [],
      "metadata": {
        "id": "e9M2ekJCJ9mt"
      },
      "execution_count": null,
      "outputs": []
    },
    {
      "cell_type": "markdown",
      "source": [
        "## 5. BONUS: More complex search engine"
      ],
      "metadata": {
        "id": "KK8ODKfZJ9v0"
      }
    },
    {
      "cell_type": "code",
      "source": [],
      "metadata": {
        "id": "2ZpfE-0QKAMG"
      },
      "execution_count": null,
      "outputs": []
    },
    {
      "cell_type": "markdown",
      "source": [
        "## 6. Command line question"
      ],
      "metadata": {
        "id": "HPuc4PmUKAWu"
      }
    },
    {
      "cell_type": "code",
      "source": [],
      "metadata": {
        "id": "kMtRVgc7KEwN"
      },
      "execution_count": null,
      "outputs": []
    },
    {
      "cell_type": "markdown",
      "source": [
        "## 7. Theoretical question"
      ],
      "metadata": {
        "id": "ks1Z654JKE--"
      }
    },
    {
      "cell_type": "code",
      "source": [],
      "metadata": {
        "id": "8vRwj8kPKHWg"
      },
      "execution_count": null,
      "outputs": []
    }
  ]
}